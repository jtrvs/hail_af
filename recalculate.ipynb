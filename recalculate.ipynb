{
 "cells": [
  {
   "cell_type": "markdown",
   "id": "9bdd301c",
   "metadata": {},
   "source": [
    "# Пайплайн с полным пересчётом и записью только малой матрицы"
   ]
  },
  {
   "cell_type": "code",
   "execution_count": 39,
   "id": "d32385f5",
   "metadata": {},
   "outputs": [],
   "source": [
    "import hail as hl"
   ]
  },
  {
   "cell_type": "code",
   "execution_count": null,
   "id": "b58c184f",
   "metadata": {
    "scrolled": true
   },
   "outputs": [],
   "source": [
    "hl.init()\n",
    "hl.default_reference('GRCh38')"
   ]
  },
  {
   "cell_type": "code",
   "execution_count": 3,
   "id": "c0d6c2ce",
   "metadata": {},
   "outputs": [],
   "source": [
    "import glob\n",
    "import os"
   ]
  },
  {
   "cell_type": "code",
   "execution_count": null,
   "id": "5a296037",
   "metadata": {},
   "outputs": [],
   "source": [
    "# конфигурация\n",
    "\n",
    "# конфигурация\n",
    "VCF_DIR = '/vcfs/'  # папка с VCF\n",
    "VCF_DIR_NEW = '/new/' # папка с VCF для добавления\n",
    "SEX_TABLE_PATH = 'sids_test.csv' # файл с полом\n",
    "AF_PATH = '/vcfs/genomes/cache/af.tsv' # кеш частот"
   ]
  },
  {
   "cell_type": "code",
   "execution_count": 14,
   "id": "a627524b",
   "metadata": {},
   "outputs": [
    {
     "name": "stdout",
     "output_type": "stream",
     "text": [
      "['/vcfs/genomes/original/000007023790.vcf.gz', '/vcfs/genomes/original/000007023800.vcf.gz', '/vcfs/genomes/original/000007023820.vcf.gz', '/vcfs/genomes/original/000007023830.vcf.gz', '/vcfs/genomes/original/000007023840.vcf.gz', '/vcfs/genomes/original/000007023850.vcf.gz', '/vcfs/genomes/original/000007023860.vcf.gz', '/vcfs/genomes/original/000007023870.vcf.gz', '/vcfs/genomes/original/000007023880.vcf.gz', '/vcfs/genomes/original/000007023890.vcf.gz', '/vcfs/genomes/original/000007023910.vcf.gz', '/vcfs/genomes/original/000007023920.vcf.gz', '/vcfs/genomes/original/000007023930.vcf.gz', '/vcfs/genomes/original/000007023940.vcf.gz', '/vcfs/genomes/original/000007023950.vcf.gz', '/vcfs/genomes/original/000007023960.vcf.gz', '/vcfs/genomes/original/000007023970.vcf.gz', '/vcfs/genomes/original/000007023980.vcf.gz', '/vcfs/genomes/original/000007023990.vcf.gz', '/vcfs/genomes/original/000007024010.vcf.gz', '/vcfs/genomes/original/000007024020.vcf.gz', '/vcfs/genomes/original/000007024030.vcf.gz', '/vcfs/genomes/original/000007024040.vcf.gz', '/vcfs/genomes/original/000007024050.vcf.gz', '/vcfs/genomes/original/000007024060.vcf.gz', '/vcfs/genomes/original/000007024070.vcf.gz', '/vcfs/genomes/original/000007024080.vcf.gz', '/vcfs/genomes/original/000007024090.vcf.gz', '/vcfs/genomes/original/000007024120.vcf.gz', '/vcfs/genomes/original/000007024130.vcf.gz', '/vcfs/genomes/original/000007024140.vcf.gz', '/vcfs/genomes/original/000007024150.vcf.gz', '/vcfs/genomes/original/000007024160.vcf.gz', '/vcfs/genomes/original/000007024170.vcf.gz', '/vcfs/genomes/original/000007024180.vcf.gz', '/vcfs/genomes/original/000007024190.vcf.gz', '/vcfs/genomes/original/000007024210.vcf.gz', '/vcfs/genomes/original/000007024220.vcf.gz', '/vcfs/genomes/original/000007024230.vcf.gz', '/vcfs/genomes/original/000007024240.vcf.gz', '/vcfs/genomes/original/000007024250.vcf.gz', '/vcfs/genomes/original/000007024260.vcf.gz', '/vcfs/genomes/original/000007024270.vcf.gz', '/vcfs/genomes/original/000007024280.vcf.gz', '/vcfs/genomes/original/000007024310.vcf.gz', '/vcfs/genomes/original/000007024320.vcf.gz', '/vcfs/genomes/original/000007024330.vcf.gz', '/vcfs/genomes/original/000007024340.vcf.gz', '/vcfs/genomes/original/000007024360.vcf.gz', '/vcfs/genomes/original/000007024370.vcf.gz', '/vcfs/genomes/original/000007024380.vcf.gz', '/vcfs/genomes/original/000007024390.vcf.gz', '/vcfs/genomes/original/000007024400.vcf.gz', '/vcfs/genomes/original/000007024410.vcf.gz', '/vcfs/genomes/original/000007024420.vcf.gz', '/vcfs/genomes/original/000007024430.vcf.gz', '/vcfs/genomes/original/000007024440.vcf.gz', '/vcfs/genomes/original/000007024450.vcf.gz', '/vcfs/genomes/original/000007024470.vcf.gz', '/vcfs/genomes/original/000007024480.vcf.gz', '/vcfs/genomes/original/000007024510.vcf.gz', '/vcfs/genomes/original/000007024520.vcf.gz', '/vcfs/genomes/original/000007024530.vcf.gz', '/vcfs/genomes/original/000007024540.vcf.gz', '/vcfs/genomes/original/000007024550.vcf.gz', '/vcfs/genomes/original/000007024560.vcf.gz', '/vcfs/genomes/original/000007024570.vcf.gz', '/vcfs/genomes/original/000007024600.vcf.gz', '/vcfs/genomes/original/000007024610.vcf.gz', '/vcfs/genomes/original/000007024620.vcf.gz', '/vcfs/genomes/original/000007024630.vcf.gz', '/vcfs/genomes/original/000007024640.vcf.gz', '/vcfs/genomes/original/000007024650.vcf.gz', '/vcfs/genomes/original/000007024660.vcf.gz', '/vcfs/genomes/original/000007024670.vcf.gz', '/vcfs/genomes/original/000007024680.vcf.gz', '/vcfs/genomes/original/000007024690.vcf.gz', '/vcfs/genomes/original/000007024700.vcf.gz', '/vcfs/genomes/original/000007024710.vcf.gz', '/vcfs/genomes/original/000007024730.vcf.gz', '/vcfs/genomes/original/000007024740.vcf.gz', '/vcfs/genomes/original/000007024750.vcf.gz', '/vcfs/genomes/original/000007024780.vcf.gz', '/vcfs/genomes/original/000007024790.vcf.gz', '/vcfs/genomes/original/000007024800.vcf.gz', '/vcfs/genomes/original/000007024820.vcf.gz', '/vcfs/genomes/original/000007024830.vcf.gz', '/vcfs/genomes/original/000007024840.vcf.gz', '/vcfs/genomes/original/000007024850.vcf.gz', '/vcfs/genomes/original/000007024860.vcf.gz', '/vcfs/genomes/original/000007024880.vcf.gz', '/vcfs/genomes/original/000007024890.vcf.gz', '/vcfs/genomes/original/000007024900.vcf.gz', '/vcfs/genomes/original/000007024910.vcf.gz', '/vcfs/genomes/original/000007024920.vcf.gz', '/vcfs/genomes/original/000007024930.vcf.gz', '/vcfs/genomes/original/000007024940.vcf.gz', '/vcfs/genomes/original/000007024960.vcf.gz', '/vcfs/genomes/original/000007024970.vcf.gz', '/vcfs/genomes/original/000007024980.vcf.gz', '/vcfs/genomes/original/000007024990.vcf.gz', '/vcfs/genomes/original/000007025010.vcf.gz', '/vcfs/genomes/original/000007025020.vcf.gz', '/vcfs/genomes/original/000007025030.vcf.gz', '/vcfs/genomes/original/000007025050.vcf.gz', '/vcfs/genomes/original/000007025060.vcf.gz', '/vcfs/genomes/original/000007025070.vcf.gz', '/vcfs/genomes/original/000007025080.vcf.gz', '/vcfs/genomes/original/000007025090.vcf.gz', '/vcfs/genomes/original/000007025100.vcf.gz', '/vcfs/genomes/original/000007025110.vcf.gz', '/vcfs/genomes/original/000007025120.vcf.gz', '/vcfs/genomes/original/000007025130.vcf.gz', '/vcfs/genomes/original/000007025140.vcf.gz', '/vcfs/genomes/original/000007025150.vcf.gz', '/vcfs/genomes/original/000007025160.vcf.gz', '/vcfs/genomes/original/000007025170.vcf.gz', '/vcfs/genomes/original/000007025180.vcf.gz', '/vcfs/genomes/original/000007025190.vcf.gz', '/vcfs/genomes/original/000007025200.vcf.gz', '/vcfs/genomes/original/000007025210.vcf.gz', '/vcfs/genomes/original/000007025220.vcf.gz', '/vcfs/genomes/original/000007025230.vcf.gz', '/vcfs/genomes/original/000007025240.vcf.gz', '/vcfs/genomes/original/000007025250.vcf.gz', '/vcfs/genomes/original/000007025260.vcf.gz', '/vcfs/genomes/original/000007025270.vcf.gz', '/vcfs/genomes/original/000007025280.vcf.gz', '/vcfs/genomes/original/000007025290.vcf.gz', '/vcfs/genomes/original/000007025300.vcf.gz', '/vcfs/genomes/original/000007025310.vcf.gz', '/vcfs/genomes/original/000007025320.vcf.gz', '/vcfs/genomes/original/000007025330.vcf.gz', '/vcfs/genomes/original/000007025340.vcf.gz', '/vcfs/genomes/original/000007025360.vcf.gz', '/vcfs/genomes/original/000007025370.vcf.gz', '/vcfs/genomes/original/000007025380.vcf.gz', '/vcfs/genomes/original/000007025390.vcf.gz', '/vcfs/genomes/original/000007025400.vcf.gz', '/vcfs/genomes/original/000007025410.vcf.gz', '/vcfs/genomes/original/000007025420.vcf.gz', '/vcfs/genomes/original/000007025430.vcf.gz', '/vcfs/genomes/original/000007025440.vcf.gz', '/vcfs/genomes/original/000007025450.vcf.gz', '/vcfs/genomes/original/000007025460.vcf.gz', '/vcfs/genomes/original/000007025470.vcf.gz', '/vcfs/genomes/original/000007025480.vcf.gz', '/vcfs/genomes/original/000007025490.vcf.gz', '/vcfs/genomes/original/000007025500.vcf.gz', '/vcfs/genomes/original/000007025510.vcf.gz', '/vcfs/genomes/original/000007025520.vcf.gz', '/vcfs/genomes/original/000007025530.vcf.gz', '/vcfs/genomes/original/000007025540.vcf.gz', '/vcfs/genomes/original/000007025550.vcf.gz', '/vcfs/genomes/original/000007025560.vcf.gz', '/vcfs/genomes/original/000007025570.vcf.gz', '/vcfs/genomes/original/000007025580.vcf.gz', '/vcfs/genomes/original/000007025590.vcf.gz', '/vcfs/genomes/original/000007025600.vcf.gz', '/vcfs/genomes/original/000007025610.vcf.gz', '/vcfs/genomes/original/000007025620.vcf.gz', '/vcfs/genomes/original/000007025630.vcf.gz', '/vcfs/genomes/original/000007025640.vcf.gz', '/vcfs/genomes/original/000007025650.vcf.gz', '/vcfs/genomes/original/000007025660.vcf.gz', '/vcfs/genomes/original/000007025670.vcf.gz', '/vcfs/genomes/original/000007025680.vcf.gz', '/vcfs/genomes/original/000007025690.vcf.gz', '/vcfs/genomes/original/000007025710.vcf.gz', '/vcfs/genomes/original/000007025740.vcf.gz', '/vcfs/genomes/original/000007025750.vcf.gz', '/vcfs/genomes/original/000007025760.vcf.gz', '/vcfs/genomes/original/000007025770.vcf.gz', '/vcfs/genomes/original/000007025780.vcf.gz', '/vcfs/genomes/original/000007025790.vcf.gz', '/vcfs/genomes/original/000007025800.vcf.gz', '/vcfs/genomes/original/000007025810.vcf.gz', '/vcfs/genomes/original/000007025820.vcf.gz', '/vcfs/genomes/original/000007025830.vcf.gz', '/vcfs/genomes/original/000007025840.vcf.gz', '/vcfs/genomes/original/000007025850.vcf.gz', '/vcfs/genomes/original/000007025860.vcf.gz', '/vcfs/genomes/original/000007025870.vcf.gz', '/vcfs/genomes/original/000007025880.vcf.gz', '/vcfs/genomes/original/000007025890.vcf.gz', '/vcfs/genomes/original/000007025900.vcf.gz', '/vcfs/genomes/original/000007025910.vcf.gz', '/vcfs/genomes/original/000007025920.vcf.gz', '/vcfs/genomes/original/000007025930.vcf.gz', '/vcfs/genomes/original/000007025940.vcf.gz', '/vcfs/genomes/original/000007025950.vcf.gz', '/vcfs/genomes/original/000007025980.vcf.gz', '/vcfs/genomes/original/000007025990.vcf.gz', '/vcfs/genomes/original/000007026000.vcf.gz', '/vcfs/genomes/original/000007026010.vcf.gz', '/vcfs/genomes/original/000007026020.vcf.gz', '/vcfs/genomes/original/000007026030.vcf.gz', '/vcfs/genomes/original/000007026040.vcf.gz', '/vcfs/genomes/original/000007026070.vcf.gz', '/vcfs/genomes/original/000007026080.vcf.gz', '/vcfs/genomes/original/000007026090.vcf.gz', '/vcfs/genomes/original/000007026100.vcf.gz', '/vcfs/genomes/original/000007026110.vcf.gz', '/vcfs/genomes/original/000007026120.vcf.gz', '/vcfs/genomes/original/000007026130.vcf.gz', '/vcfs/genomes/original/000007026140.vcf.gz', '/vcfs/genomes/original/000007026150.vcf.gz', '/vcfs/genomes/original/000007026160.vcf.gz', '/vcfs/genomes/original/000007026190.vcf.gz', '/vcfs/genomes/original/000007026200.vcf.gz', '/vcfs/genomes/original/000007026220.vcf.gz', '/vcfs/genomes/original/000007026230.vcf.gz', '/vcfs/genomes/original/000007026250.vcf.gz', '/vcfs/genomes/original/000007026260.vcf.gz', '/vcfs/genomes/original/000007026270.vcf.gz', '/vcfs/genomes/original/000007026280.vcf.gz', '/vcfs/genomes/original/000007026290.vcf.gz', '/vcfs/genomes/original/000007026300.vcf.gz', '/vcfs/genomes/original/000007026310.vcf.gz', '/vcfs/genomes/original/000007026320.vcf.gz', '/vcfs/genomes/original/000007026340.vcf.gz', '/vcfs/genomes/original/000007026350.vcf.gz', '/vcfs/genomes/original/000007026360.vcf.gz', '/vcfs/genomes/original/000007026370.vcf.gz', '/vcfs/genomes/original/000007026380.vcf.gz', '/vcfs/genomes/original/000007026390.vcf.gz', '/vcfs/genomes/original/000007026400.vcf.gz', '/vcfs/genomes/original/000007026410.vcf.gz', '/vcfs/genomes/original/000007026420.vcf.gz', '/vcfs/genomes/original/000007026430.vcf.gz', '/vcfs/genomes/original/000007026440.vcf.gz', '/vcfs/genomes/original/000007026450.vcf.gz', '/vcfs/genomes/original/000007026460.vcf.gz', '/vcfs/genomes/original/000007026470.vcf.gz', '/vcfs/genomes/original/000007026480.vcf.gz', '/vcfs/genomes/original/000007026490.vcf.gz', '/vcfs/genomes/original/000007000020.vcf.gz', '/vcfs/genomes/original/000007000030.vcf.gz', '/vcfs/genomes/original/000007000040.vcf.gz', '/vcfs/genomes/original/000007000050.vcf.gz', '/vcfs/genomes/original/000007000060.vcf.gz', '/vcfs/genomes/original/000007000070.vcf.gz', '/vcfs/genomes/original/000007000080.vcf.gz', '/vcfs/genomes/original/000007000100.vcf.gz', '/vcfs/genomes/original/000007000110.vcf.gz', '/vcfs/genomes/original/000007000120.vcf.gz', '/vcfs/genomes/original/000007000130.vcf.gz', '/vcfs/genomes/original/000007000140.vcf.gz', '/vcfs/genomes/original/000007000150.vcf.gz', '/vcfs/genomes/original/000007000160.vcf.gz', '/vcfs/genomes/original/000007000170.vcf.gz', '/vcfs/genomes/original/000007000180.vcf.gz', '/vcfs/genomes/original/000007000190.vcf.gz', '/vcfs/genomes/original/000007000200.vcf.gz', '/vcfs/genomes/original/000007000210.vcf.gz', '/vcfs/genomes/original/000007000220.vcf.gz', '/vcfs/genomes/original/000007000230.vcf.gz', '/vcfs/genomes/original/000007000240.vcf.gz', '/vcfs/genomes/original/000007000250.vcf.gz', '/vcfs/genomes/original/000007000260.vcf.gz', '/vcfs/genomes/original/000007000270.vcf.gz', '/vcfs/genomes/original/000007000280.vcf.gz', '/vcfs/genomes/original/000007000290.vcf.gz', '/vcfs/genomes/original/000007000300.vcf.gz', '/vcfs/genomes/original/000007000310.vcf.gz', '/vcfs/genomes/original/000007000320.vcf.gz', '/vcfs/genomes/original/000007000330.vcf.gz', '/vcfs/genomes/original/000007000340.vcf.gz', '/vcfs/genomes/original/000007000350.vcf.gz', '/vcfs/genomes/original/000007000360.vcf.gz', '/vcfs/genomes/original/000007000370.vcf.gz', '/vcfs/genomes/original/000007000380.vcf.gz', '/vcfs/genomes/original/000007000390.vcf.gz', '/vcfs/genomes/original/000007000400.vcf.gz', '/vcfs/genomes/original/000007000410.vcf.gz', '/vcfs/genomes/original/000007000420.vcf.gz', '/vcfs/genomes/original/000007000430.vcf.gz', '/vcfs/genomes/original/000007000440.vcf.gz', '/vcfs/genomes/original/000007000450.vcf.gz', '/vcfs/genomes/original/000007000460.vcf.gz', '/vcfs/genomes/original/000007000470.vcf.gz', '/vcfs/genomes/original/000007000480.vcf.gz', '/vcfs/genomes/original/000007000490.vcf.gz', '/vcfs/genomes/original/000007000500.vcf.gz', '/vcfs/genomes/original/000007000510.vcf.gz', '/vcfs/genomes/original/000007000520.vcf.gz', '/vcfs/genomes/original/000007000540.vcf.gz', '/vcfs/genomes/original/000007000550.vcf.gz', '/vcfs/genomes/original/000007000560.vcf.gz', '/vcfs/genomes/original/000007000610.vcf.gz', '/vcfs/genomes/original/000007000620.vcf.gz', '/vcfs/genomes/original/000007000630.vcf.gz', '/vcfs/genomes/original/000007000640.vcf.gz', '/vcfs/genomes/original/000007000650.vcf.gz', '/vcfs/genomes/original/000007000660.vcf.gz', '/vcfs/genomes/original/000007000670.vcf.gz', '/vcfs/genomes/original/000007000680.vcf.gz', '/vcfs/genomes/original/000007000690.vcf.gz', '/vcfs/genomes/original/000007000700.vcf.gz', '/vcfs/genomes/original/000007000710.vcf.gz', '/vcfs/genomes/original/000007000720.vcf.gz', '/vcfs/genomes/original/000007000730.vcf.gz', '/vcfs/genomes/original/000007000740.vcf.gz', '/vcfs/genomes/original/000007000750.vcf.gz', '/vcfs/genomes/original/000007000760.vcf.gz', '/vcfs/genomes/original/000007000770.vcf.gz', '/vcfs/genomes/original/000007000780.vcf.gz', '/vcfs/genomes/original/000007000790.vcf.gz', '/vcfs/genomes/original/000007000800.vcf.gz', '/vcfs/genomes/original/000007000810.vcf.gz', '/vcfs/genomes/original/000007000820.vcf.gz', '/vcfs/genomes/original/000007000840.vcf.gz', '/vcfs/genomes/original/000007000850.vcf.gz', '/vcfs/genomes/original/000007000860.vcf.gz', '/vcfs/genomes/original/000007000870.vcf.gz', '/vcfs/genomes/original/000007000880.vcf.gz', '/vcfs/genomes/original/000007000890.vcf.gz', '/vcfs/genomes/original/000007000900.vcf.gz', '/vcfs/genomes/original/000007000910.vcf.gz', '/vcfs/genomes/original/000007000930.vcf.gz', '/vcfs/genomes/original/000007000940.vcf.gz', '/vcfs/genomes/original/000007000950.vcf.gz', '/vcfs/genomes/original/000007000960.vcf.gz', '/vcfs/genomes/original/000007000970.vcf.gz', '/vcfs/genomes/original/000007000980.vcf.gz', '/vcfs/genomes/original/000007000990.vcf.gz', '/vcfs/genomes/original/000007001000.vcf.gz', '/vcfs/genomes/original/000007001010.vcf.gz', '/vcfs/genomes/original/000007001020.vcf.gz', '/vcfs/genomes/original/000007001030.vcf.gz', '/vcfs/genomes/original/000007001040.vcf.gz', '/vcfs/genomes/original/000007001050.vcf.gz', '/vcfs/genomes/original/000007001060.vcf.gz', '/vcfs/genomes/original/000007001070.vcf.gz', '/vcfs/genomes/original/000007001080.vcf.gz', '/vcfs/genomes/original/000007001090.vcf.gz', '/vcfs/genomes/original/000007001100.vcf.gz', '/vcfs/genomes/original/000007001110.vcf.gz', '/vcfs/genomes/original/000007001120.vcf.gz', '/vcfs/genomes/original/000007001130.vcf.gz', '/vcfs/genomes/original/000007001140.vcf.gz', '/vcfs/genomes/original/000007001150.vcf.gz', '/vcfs/genomes/original/000007001160.vcf.gz', '/vcfs/genomes/original/000007001170.vcf.gz', '/vcfs/genomes/original/000007001180.vcf.gz', '/vcfs/genomes/original/000007001190.vcf.gz', '/vcfs/genomes/original/000007001200.vcf.gz', '/vcfs/genomes/original/000007001210.vcf.gz', '/vcfs/genomes/original/000007001220.vcf.gz', '/vcfs/genomes/original/000007001230.vcf.gz', '/vcfs/genomes/original/000007001240.vcf.gz', '/vcfs/genomes/original/000007001250.vcf.gz', '/vcfs/genomes/original/000007001280.vcf.gz', '/vcfs/genomes/original/000007001300.vcf.gz', '/vcfs/genomes/original/000007001310.vcf.gz', '/vcfs/genomes/original/000007001320.vcf.gz', '/vcfs/genomes/original/000007001330.vcf.gz', '/vcfs/genomes/original/000007020010.vcf.gz', '/vcfs/genomes/original/000007020020.vcf.gz', '/vcfs/genomes/original/000007020030.vcf.gz', '/vcfs/genomes/original/000007020040.vcf.gz', '/vcfs/genomes/original/000007020050.vcf.gz', '/vcfs/genomes/original/000007020060.vcf.gz', '/vcfs/genomes/original/000007020070.vcf.gz', '/vcfs/genomes/original/000007020080.vcf.gz', '/vcfs/genomes/original/000007020090.vcf.gz', '/vcfs/genomes/original/000007020100.vcf.gz', '/vcfs/genomes/original/000007020110.vcf.gz', '/vcfs/genomes/original/000007020120.vcf.gz', '/vcfs/genomes/original/000007020130.vcf.gz', '/vcfs/genomes/original/000007020140.vcf.gz', '/vcfs/genomes/original/000007020150.vcf.gz', '/vcfs/genomes/original/000007020160.vcf.gz', '/vcfs/genomes/original/000007020170.vcf.gz', '/vcfs/genomes/original/000007020180.vcf.gz', '/vcfs/genomes/original/000007020190.vcf.gz', '/vcfs/genomes/original/000007020200.vcf.gz', '/vcfs/genomes/original/000007020210.vcf.gz', '/vcfs/genomes/original/000007020240.vcf.gz', '/vcfs/genomes/original/000007020250.vcf.gz', '/vcfs/genomes/original/000007020260.vcf.gz', '/vcfs/genomes/original/000007020270.vcf.gz', '/vcfs/genomes/original/000007020290.vcf.gz', '/vcfs/genomes/original/000007020300.vcf.gz', '/vcfs/genomes/original/000007020310.vcf.gz', '/vcfs/genomes/original/000007020320.vcf.gz', '/vcfs/genomes/original/000007020330.vcf.gz', '/vcfs/genomes/original/000007020340.vcf.gz', '/vcfs/genomes/original/000007020350.vcf.gz', '/vcfs/genomes/original/000007020360.vcf.gz', '/vcfs/genomes/original/000007020370.vcf.gz', '/vcfs/genomes/original/000007020380.vcf.gz', '/vcfs/genomes/original/000007020390.vcf.gz', '/vcfs/genomes/original/000007020400.vcf.gz', '/vcfs/genomes/original/000007020410.vcf.gz', '/vcfs/genomes/original/000007020420.vcf.gz', '/vcfs/genomes/original/000007020430.vcf.gz', '/vcfs/genomes/original/000007020440.vcf.gz', '/vcfs/genomes/original/000007020450.vcf.gz', '/vcfs/genomes/original/000007020460.vcf.gz', '/vcfs/genomes/original/000007020470.vcf.gz', '/vcfs/genomes/original/000007020480.vcf.gz', '/vcfs/genomes/original/000007020490.vcf.gz', '/vcfs/genomes/original/000007020500.vcf.gz', '/vcfs/genomes/original/000007020510.vcf.gz', '/vcfs/genomes/original/000007020520.vcf.gz', '/vcfs/genomes/original/000007020530.vcf.gz', '/vcfs/genomes/original/000007020540.vcf.gz', '/vcfs/genomes/original/000007020550.vcf.gz', '/vcfs/genomes/original/000007020560.vcf.gz', '/vcfs/genomes/original/000007020570.vcf.gz', '/vcfs/genomes/original/000007020580.vcf.gz', '/vcfs/genomes/original/000007020590.vcf.gz', '/vcfs/genomes/original/000007020600.vcf.gz', '/vcfs/genomes/original/000007020610.vcf.gz', '/vcfs/genomes/original/000007020620.vcf.gz', '/vcfs/genomes/original/000007020630.vcf.gz', '/vcfs/genomes/original/000007020640.vcf.gz', '/vcfs/genomes/original/000007020650.vcf.gz', '/vcfs/genomes/original/000007020660.vcf.gz', '/vcfs/genomes/original/000007020670.vcf.gz', '/vcfs/genomes/original/000007020680.vcf.gz', '/vcfs/genomes/original/000007020690.vcf.gz', '/vcfs/genomes/original/000007020700.vcf.gz', '/vcfs/genomes/original/000007020710.vcf.gz', '/vcfs/genomes/original/000007020720.vcf.gz', '/vcfs/genomes/original/000007020730.vcf.gz', '/vcfs/genomes/original/000007020740.vcf.gz', '/vcfs/genomes/original/000007020750.vcf.gz', '/vcfs/genomes/original/000007020760.vcf.gz', '/vcfs/genomes/original/000007020770.vcf.gz', '/vcfs/genomes/original/000007020780.vcf.gz', '/vcfs/genomes/original/000007020790.vcf.gz', '/vcfs/genomes/original/000007020800.vcf.gz', '/vcfs/genomes/original/000007020810.vcf.gz', '/vcfs/genomes/original/000007020820.vcf.gz', '/vcfs/genomes/original/000007020830.vcf.gz', '/vcfs/genomes/original/000007020840.vcf.gz', '/vcfs/genomes/original/000007020850.vcf.gz', '/vcfs/genomes/original/000007020860.vcf.gz', '/vcfs/genomes/original/000007020870.vcf.gz', '/vcfs/genomes/original/000007020880.vcf.gz', '/vcfs/genomes/original/000007020890.vcf.gz', '/vcfs/genomes/original/000007020900.vcf.gz', '/vcfs/genomes/original/000007020910.vcf.gz', '/vcfs/genomes/original/000007020920.vcf.gz', '/vcfs/genomes/original/000007020930.vcf.gz', '/vcfs/genomes/original/000007020940.vcf.gz', '/vcfs/genomes/original/000007020950.vcf.gz', '/vcfs/genomes/original/000007020960.vcf.gz', '/vcfs/genomes/original/000007020970.vcf.gz', '/vcfs/genomes/original/000007020980.vcf.gz', '/vcfs/genomes/original/000007020990.vcf.gz', '/vcfs/genomes/original/000007021000.vcf.gz', '/vcfs/genomes/original/000007021010.vcf.gz', '/vcfs/genomes/original/000007021020.vcf.gz', '/vcfs/genomes/original/000007021030.vcf.gz', '/vcfs/genomes/original/000007021040.vcf.gz', '/vcfs/genomes/original/000007021050.vcf.gz', '/vcfs/genomes/original/000007021060.vcf.gz', '/vcfs/genomes/original/000007021070.vcf.gz', '/vcfs/genomes/original/000007021080.vcf.gz', '/vcfs/genomes/original/000007021090.vcf.gz', '/vcfs/genomes/original/000007021100.vcf.gz', '/vcfs/genomes/original/000007021110.vcf.gz', '/vcfs/genomes/original/000007021120.vcf.gz', '/vcfs/genomes/original/000007021130.vcf.gz', '/vcfs/genomes/original/000007021140.vcf.gz', '/vcfs/genomes/original/000007021150.vcf.gz', '/vcfs/genomes/original/000007021160.vcf.gz', '/vcfs/genomes/original/000007021170.vcf.gz', '/vcfs/genomes/original/000007021180.vcf.gz', '/vcfs/genomes/original/000007021190.vcf.gz', '/vcfs/genomes/original/000007021200.vcf.gz', '/vcfs/genomes/original/000007021210.vcf.gz', '/vcfs/genomes/original/000007021220.vcf.gz', '/vcfs/genomes/original/000007021230.vcf.gz', '/vcfs/genomes/original/000007021240.vcf.gz', '/vcfs/genomes/original/000007021250.vcf.gz', '/vcfs/genomes/original/000007021260.vcf.gz', '/vcfs/genomes/original/000007021270.vcf.gz', '/vcfs/genomes/original/000007021280.vcf.gz', '/vcfs/genomes/original/000007021290.vcf.gz', '/vcfs/genomes/original/000007021300.vcf.gz', '/vcfs/genomes/original/000007021310.vcf.gz', '/vcfs/genomes/original/000007021320.vcf.gz', '/vcfs/genomes/original/000007021330.vcf.gz', '/vcfs/genomes/original/000007021340.vcf.gz', '/vcfs/genomes/original/000007021350.vcf.gz', '/vcfs/genomes/original/000007021360.vcf.gz', '/vcfs/genomes/original/000007021370.vcf.gz', '/vcfs/genomes/original/000007021380.vcf.gz', '/vcfs/genomes/original/000007021390.vcf.gz', '/vcfs/genomes/original/000007021400.vcf.gz', '/vcfs/genomes/original/000007021410.vcf.gz', '/vcfs/genomes/original/000007021420.vcf.gz', '/vcfs/genomes/original/000007021430.vcf.gz', '/vcfs/genomes/original/000007021440.vcf.gz', '/vcfs/genomes/original/000007021450.vcf.gz', '/vcfs/genomes/original/000007021460.vcf.gz', '/vcfs/genomes/original/000007021470.vcf.gz', '/vcfs/genomes/original/000007021480.vcf.gz', '/vcfs/genomes/original/000007021490.vcf.gz', '/vcfs/genomes/original/000007021500.vcf.gz', '/vcfs/genomes/original/000007021510.vcf.gz', '/vcfs/genomes/original/000007021520.vcf.gz', '/vcfs/genomes/original/000007021530.vcf.gz', '/vcfs/genomes/original/000007021540.vcf.gz', '/vcfs/genomes/original/000007021560.vcf.gz', '/vcfs/genomes/original/000007021570.vcf.gz', '/vcfs/genomes/original/000007021580.vcf.gz', '/vcfs/genomes/original/000007021590.vcf.gz', '/vcfs/genomes/original/000007021600.vcf.gz', '/vcfs/genomes/original/000007021610.vcf.gz', '/vcfs/genomes/original/000007021620.vcf.gz', '/vcfs/genomes/original/000007021630.vcf.gz', '/vcfs/genomes/original/000007021650.vcf.gz', '/vcfs/genomes/original/000007021660.vcf.gz', '/vcfs/genomes/original/000007021670.vcf.gz', '/vcfs/genomes/original/000007021680.vcf.gz', '/vcfs/genomes/original/000007021690.vcf.gz', '/vcfs/genomes/original/000007021700.vcf.gz', '/vcfs/genomes/original/000007021710.vcf.gz', '/vcfs/genomes/original/000007021720.vcf.gz', '/vcfs/genomes/original/000007021750.vcf.gz', '/vcfs/genomes/original/000007021760.vcf.gz', '/vcfs/genomes/original/000007021770.vcf.gz', '/vcfs/genomes/original/000007021780.vcf.gz', '/vcfs/genomes/original/000007021800.vcf.gz', '/vcfs/genomes/original/000007021810.vcf.gz', '/vcfs/genomes/original/000007021820.vcf.gz', '/vcfs/genomes/original/000007021830.vcf.gz', '/vcfs/genomes/original/000007021840.vcf.gz', '/vcfs/genomes/original/000007021850.vcf.gz', '/vcfs/genomes/original/000007021860.vcf.gz', '/vcfs/genomes/original/000007021870.vcf.gz', '/vcfs/genomes/original/000007021880.vcf.gz', '/vcfs/genomes/original/000007021890.vcf.gz', '/vcfs/genomes/original/000007021900.vcf.gz', '/vcfs/genomes/original/000007021910.vcf.gz', '/vcfs/genomes/original/000007021920.vcf.gz', '/vcfs/genomes/original/000007021930.vcf.gz', '/vcfs/genomes/original/000007021940.vcf.gz', '/vcfs/genomes/original/000007021950.vcf.gz', '/vcfs/genomes/original/000007021960.vcf.gz', '/vcfs/genomes/original/000007021970.vcf.gz', '/vcfs/genomes/original/000007021980.vcf.gz', '/vcfs/genomes/original/000007021990.vcf.gz', '/vcfs/genomes/original/000007022000.vcf.gz', '/vcfs/genomes/original/000007022010.vcf.gz', '/vcfs/genomes/original/000007022020.vcf.gz', '/vcfs/genomes/original/000007022030.vcf.gz', '/vcfs/genomes/original/000007022040.vcf.gz', '/vcfs/genomes/original/000007022050.vcf.gz', '/vcfs/genomes/original/000007022060.vcf.gz', '/vcfs/genomes/original/000007022070.vcf.gz', '/vcfs/genomes/original/000007022080.vcf.gz', '/vcfs/genomes/original/000007022090.vcf.gz', '/vcfs/genomes/original/000007022100.vcf.gz', '/vcfs/genomes/original/000007022110.vcf.gz', '/vcfs/genomes/original/000007022120.vcf.gz', '/vcfs/genomes/original/000007022130.vcf.gz', '/vcfs/genomes/original/000007022140.vcf.gz', '/vcfs/genomes/original/000007022150.vcf.gz', '/vcfs/genomes/original/000007022160.vcf.gz', '/vcfs/genomes/original/000007022170.vcf.gz', '/vcfs/genomes/original/000007022180.vcf.gz', '/vcfs/genomes/original/000007022190.vcf.gz', '/vcfs/genomes/original/000007022200.vcf.gz', '/vcfs/genomes/original/000007022210.vcf.gz', '/vcfs/genomes/original/000007022220.vcf.gz', '/vcfs/genomes/original/000007022230.vcf.gz', '/vcfs/genomes/original/000007022240.vcf.gz', '/vcfs/genomes/original/000007022250.vcf.gz', '/vcfs/genomes/original/000007022260.vcf.gz', '/vcfs/genomes/original/000007022270.vcf.gz', '/vcfs/genomes/original/000007022280.vcf.gz', '/vcfs/genomes/original/000007022290.vcf.gz', '/vcfs/genomes/original/000007022300.vcf.gz', '/vcfs/genomes/original/000007022310.vcf.gz', '/vcfs/genomes/original/000007022320.vcf.gz', '/vcfs/genomes/original/000007022330.vcf.gz', '/vcfs/genomes/original/000007022340.vcf.gz', '/vcfs/genomes/original/000007022350.vcf.gz', '/vcfs/genomes/original/000007022360.vcf.gz', '/vcfs/genomes/original/000007022370.vcf.gz', '/vcfs/genomes/original/000007022380.vcf.gz', '/vcfs/genomes/original/000007022390.vcf.gz', '/vcfs/genomes/original/000007022400.vcf.gz', '/vcfs/genomes/original/000007022410.vcf.gz', '/vcfs/genomes/original/000007022420.vcf.gz', '/vcfs/genomes/original/000007022430.vcf.gz', '/vcfs/genomes/original/000007022440.vcf.gz', '/vcfs/genomes/original/000007022450.vcf.gz', '/vcfs/genomes/original/000007022460.vcf.gz', '/vcfs/genomes/original/000007022470.vcf.gz', '/vcfs/genomes/original/000007022480.vcf.gz', '/vcfs/genomes/original/000007022490.vcf.gz', '/vcfs/genomes/original/000007022510.vcf.gz', '/vcfs/genomes/original/000007022520.vcf.gz', '/vcfs/genomes/original/000007022530.vcf.gz', '/vcfs/genomes/original/000007022540.vcf.gz', '/vcfs/genomes/original/000007022550.vcf.gz', '/vcfs/genomes/original/000007022560.vcf.gz', '/vcfs/genomes/original/000007022570.vcf.gz', '/vcfs/genomes/original/000007022580.vcf.gz', '/vcfs/genomes/original/000007022590.vcf.gz', '/vcfs/genomes/original/000007022600.vcf.gz', '/vcfs/genomes/original/000007022610.vcf.gz', '/vcfs/genomes/original/000007022620.vcf.gz', '/vcfs/genomes/original/000007022630.vcf.gz', '/vcfs/genomes/original/000007022640.vcf.gz', '/vcfs/genomes/original/000007022650.vcf.gz', '/vcfs/genomes/original/000007022660.vcf.gz', '/vcfs/genomes/original/000007022670.vcf.gz', '/vcfs/genomes/original/000007022680.vcf.gz', '/vcfs/genomes/original/000007022690.vcf.gz', '/vcfs/genomes/original/000007022700.vcf.gz', '/vcfs/genomes/original/000007022710.vcf.gz', '/vcfs/genomes/original/000007022720.vcf.gz', '/vcfs/genomes/original/000007022730.vcf.gz', '/vcfs/genomes/original/000007022740.vcf.gz', '/vcfs/genomes/original/000007022750.vcf.gz', '/vcfs/genomes/original/000007022760.vcf.gz', '/vcfs/genomes/original/000007022770.vcf.gz', '/vcfs/genomes/original/000007022780.vcf.gz', '/vcfs/genomes/original/000007022790.vcf.gz', '/vcfs/genomes/original/000007022800.vcf.gz', '/vcfs/genomes/original/000007022810.vcf.gz', '/vcfs/genomes/original/000007022820.vcf.gz', '/vcfs/genomes/original/000007022830.vcf.gz', '/vcfs/genomes/original/000007022840.vcf.gz', '/vcfs/genomes/original/000007022850.vcf.gz', '/vcfs/genomes/original/000007022860.vcf.gz', '/vcfs/genomes/original/000007022870.vcf.gz', '/vcfs/genomes/original/000007022880.vcf.gz', '/vcfs/genomes/original/000007022890.vcf.gz', '/vcfs/genomes/original/000007022900.vcf.gz', '/vcfs/genomes/original/000007022910.vcf.gz', '/vcfs/genomes/original/000007022920.vcf.gz', '/vcfs/genomes/original/000007022930.vcf.gz', '/vcfs/genomes/original/000007022940.vcf.gz', '/vcfs/genomes/original/000007022950.vcf.gz', '/vcfs/genomes/original/000007022960.vcf.gz', '/vcfs/genomes/original/000007022970.vcf.gz', '/vcfs/genomes/original/000007022980.vcf.gz', '/vcfs/genomes/original/000007022990.vcf.gz', '/vcfs/genomes/original/000007023000.vcf.gz', '/vcfs/genomes/original/000007023010.vcf.gz', '/vcfs/genomes/original/000007023020.vcf.gz', '/vcfs/genomes/original/000007023030.vcf.gz', '/vcfs/genomes/original/000007023040.vcf.gz', '/vcfs/genomes/original/000007023050.vcf.gz', '/vcfs/genomes/original/000007023060.vcf.gz', '/vcfs/genomes/original/000007023070.vcf.gz', '/vcfs/genomes/original/000007023080.vcf.gz', '/vcfs/genomes/original/000007023090.vcf.gz', '/vcfs/genomes/original/000007023100.vcf.gz', '/vcfs/genomes/original/000007023110.vcf.gz', '/vcfs/genomes/original/000007023120.vcf.gz', '/vcfs/genomes/original/000007023130.vcf.gz', '/vcfs/genomes/original/000007023140.vcf.gz', '/vcfs/genomes/original/000007023150.vcf.gz', '/vcfs/genomes/original/000007023160.vcf.gz', '/vcfs/genomes/original/000007023170.vcf.gz', '/vcfs/genomes/original/000007023180.vcf.gz', '/vcfs/genomes/original/000007023190.vcf.gz', '/vcfs/genomes/original/000007023200.vcf.gz', '/vcfs/genomes/original/000007023210.vcf.gz', '/vcfs/genomes/original/000007023220.vcf.gz', '/vcfs/genomes/original/000007023230.vcf.gz', '/vcfs/genomes/original/000007023240.vcf.gz', '/vcfs/genomes/original/000007023250.vcf.gz', '/vcfs/genomes/original/000007023260.vcf.gz', '/vcfs/genomes/original/000007023270.vcf.gz', '/vcfs/genomes/original/000007023280.vcf.gz', '/vcfs/genomes/original/000007023290.vcf.gz', '/vcfs/genomes/original/000007023300.vcf.gz', '/vcfs/genomes/original/000007023310.vcf.gz', '/vcfs/genomes/original/000007023320.vcf.gz', '/vcfs/genomes/original/000007023330.vcf.gz', '/vcfs/genomes/original/000007023340.vcf.gz', '/vcfs/genomes/original/000007023350.vcf.gz', '/vcfs/genomes/original/000007023360.vcf.gz', '/vcfs/genomes/original/000007023370.vcf.gz', '/vcfs/genomes/original/000007023380.vcf.gz', '/vcfs/genomes/original/000007023390.vcf.gz', '/vcfs/genomes/original/000007023400.vcf.gz', '/vcfs/genomes/original/000007023410.vcf.gz', '/vcfs/genomes/original/000007023420.vcf.gz', '/vcfs/genomes/original/000007023430.vcf.gz', '/vcfs/genomes/original/000007023440.vcf.gz', '/vcfs/genomes/original/000007023450.vcf.gz', '/vcfs/genomes/original/000007023470.vcf.gz', '/vcfs/genomes/original/000007023480.vcf.gz', '/vcfs/genomes/original/000007023490.vcf.gz', '/vcfs/genomes/original/000007023500.vcf.gz', '/vcfs/genomes/original/000007023510.vcf.gz', '/vcfs/genomes/original/000007023520.vcf.gz', '/vcfs/genomes/original/000007023530.vcf.gz', '/vcfs/genomes/original/000007023540.vcf.gz', '/vcfs/genomes/original/000007023550.vcf.gz', '/vcfs/genomes/original/000007023560.vcf.gz', '/vcfs/genomes/original/000007023570.vcf.gz', '/vcfs/genomes/original/000007023580.vcf.gz', '/vcfs/genomes/original/000007023590.vcf.gz', '/vcfs/genomes/original/000007023630.vcf.gz', '/vcfs/genomes/original/000007023640.vcf.gz', '/vcfs/genomes/original/000007023650.vcf.gz', '/vcfs/genomes/original/000007023660.vcf.gz', '/vcfs/genomes/original/000007023670.vcf.gz', '/vcfs/genomes/original/000007023680.vcf.gz', '/vcfs/genomes/original/000007023690.vcf.gz', '/vcfs/genomes/original/000007023700.vcf.gz', '/vcfs/genomes/original/000007023720.vcf.gz', '/vcfs/genomes/original/000007023730.vcf.gz', '/vcfs/genomes/original/000007023740.vcf.gz', '/vcfs/genomes/original/000007023750.vcf.gz', '/vcfs/genomes/original/000007023760.vcf.gz', '/vcfs/genomes/original/000007023770.vcf.gz', '/vcfs/genomes/original/000007023780.vcf.gz', '/vcfs/genomes/original/000007026500.vcf.gz', '/vcfs/genomes/original/000007026510.vcf.gz', '/vcfs/genomes/original/000007026520.vcf.gz', '/vcfs/genomes/original/000007026530.vcf.gz', '/vcfs/genomes/original/000007026540.vcf.gz', '/vcfs/genomes/original/000007026550.vcf.gz', '/vcfs/genomes/original/000007026560.vcf.gz', '/vcfs/genomes/original/000007026570.vcf.gz', '/vcfs/genomes/original/000007026580.vcf.gz', '/vcfs/genomes/original/000007026590.vcf.gz', '/vcfs/genomes/original/000007026600.vcf.gz', '/vcfs/genomes/original/000007026610.vcf.gz', '/vcfs/genomes/original/000007026620.vcf.gz', '/vcfs/genomes/original/000007026630.vcf.gz', '/vcfs/genomes/original/000007026640.vcf.gz', '/vcfs/genomes/original/000007026650.vcf.gz', '/vcfs/genomes/original/000007026660.vcf.gz', '/vcfs/genomes/original/000007026670.vcf.gz', '/vcfs/genomes/original/000007026680.vcf.gz', '/vcfs/genomes/original/000007026690.vcf.gz', '/vcfs/genomes/original/000007026700.vcf.gz', '/vcfs/genomes/original/000007026710.vcf.gz', '/vcfs/genomes/original/000007026720.vcf.gz', '/vcfs/genomes/original/000007026730.vcf.gz', '/vcfs/genomes/original/000007026740.vcf.gz', '/vcfs/genomes/original/000007026750.vcf.gz', '/vcfs/genomes/original/000007026780.vcf.gz', '/vcfs/genomes/original/000007026790.vcf.gz', '/vcfs/genomes/original/000007026800.vcf.gz', '/vcfs/genomes/original/000007026810.vcf.gz', '/vcfs/genomes/original/000007026820.vcf.gz', '/vcfs/genomes/original/000007026830.vcf.gz', '/vcfs/genomes/original/000007026840.vcf.gz', '/vcfs/genomes/original/000007026850.vcf.gz', '/vcfs/genomes/original/000007026880.vcf.gz', '/vcfs/genomes/original/000007026890.vcf.gz', '/vcfs/genomes/original/000007026900.vcf.gz', '/vcfs/genomes/original/000007026910.vcf.gz', '/vcfs/genomes/original/000007026920.vcf.gz', '/vcfs/genomes/original/000007026940.vcf.gz', '/vcfs/genomes/original/000007026950.vcf.gz', '/vcfs/genomes/original/000007026960.vcf.gz', '/vcfs/genomes/original/000007026970.vcf.gz', '/vcfs/genomes/original/000007026980.vcf.gz', '/vcfs/genomes/original/000007026990.vcf.gz', '/vcfs/genomes/original/000007027020.vcf.gz', '/vcfs/genomes/original/000007027030.vcf.gz', '/vcfs/genomes/original/000007027070.vcf.gz', '/vcfs/genomes/original/000007027080.vcf.gz', '/vcfs/genomes/original/000007027090.vcf.gz', '/vcfs/genomes/original/000007027100.vcf.gz', '/vcfs/genomes/original/000007027110.vcf.gz', '/vcfs/genomes/original/000007027120.vcf.gz', '/vcfs/genomes/original/000007027130.vcf.gz', '/vcfs/genomes/original/000007027140.vcf.gz', '/vcfs/genomes/original/000007027150.vcf.gz', '/vcfs/genomes/original/000007027160.vcf.gz', '/vcfs/genomes/original/000007027170.vcf.gz', '/vcfs/genomes/original/000007027180.vcf.gz', '/vcfs/genomes/original/000007027190.vcf.gz', '/vcfs/genomes/original/000007027200.vcf.gz', '/vcfs/genomes/original/000007027210.vcf.gz', '/vcfs/genomes/original/000007027220.vcf.gz', '/vcfs/genomes/original/000007027230.vcf.gz', '/vcfs/genomes/original/000007027240.vcf.gz', '/vcfs/genomes/original/000007027250.vcf.gz', '/vcfs/genomes/original/000007027260.vcf.gz', '/vcfs/genomes/original/000007027270.vcf.gz', '/vcfs/genomes/original/000007027280.vcf.gz', '/vcfs/genomes/original/000007027290.vcf.gz', '/vcfs/genomes/original/000007027300.vcf.gz', '/vcfs/genomes/original/000007027310.vcf.gz', '/vcfs/genomes/original/000007027320.vcf.gz', '/vcfs/genomes/original/000007027330.vcf.gz', '/vcfs/genomes/original/000007027340.vcf.gz', '/vcfs/genomes/original/000007027350.vcf.gz', '/vcfs/genomes/original/000007027360.vcf.gz', '/vcfs/genomes/original/000007027370.vcf.gz', '/vcfs/genomes/original/000007027380.vcf.gz', '/vcfs/genomes/original/000007027390.vcf.gz', '/vcfs/genomes/original/000007027400.vcf.gz', '/vcfs/genomes/original/000007027410.vcf.gz', '/vcfs/genomes/original/000007027420.vcf.gz', '/vcfs/genomes/original/000007027430.vcf.gz', '/vcfs/genomes/original/000007027440.vcf.gz', '/vcfs/genomes/original/000007027450.vcf.gz', '/vcfs/genomes/original/000007027460.vcf.gz', '/vcfs/genomes/original/000007027470.vcf.gz', '/vcfs/genomes/original/000007027480.vcf.gz', '/vcfs/genomes/original/000007027490.vcf.gz', '/vcfs/genomes/original/000007027500.vcf.gz', '/vcfs/genomes/original/000007027510.vcf.gz', '/vcfs/genomes/original/000007027520.vcf.gz', '/vcfs/genomes/original/000007027530.vcf.gz', '/vcfs/genomes/original/000007027540.vcf.gz', '/vcfs/genomes/original/000007027550.vcf.gz', '/vcfs/genomes/original/000007027560.vcf.gz', '/vcfs/genomes/original/000007027570.vcf.gz', '/vcfs/genomes/original/000007027580.vcf.gz', '/vcfs/genomes/original/000007027590.vcf.gz', '/vcfs/genomes/original/000007027600.vcf.gz', '/vcfs/genomes/original/000007027610.vcf.gz', '/vcfs/genomes/original/000007027620.vcf.gz', '/vcfs/genomes/original/000007027630.vcf.gz', '/vcfs/genomes/original/000007027640.vcf.gz', '/vcfs/genomes/original/000007027650.vcf.gz', '/vcfs/genomes/original/000007027660.vcf.gz', '/vcfs/genomes/original/000007027670.vcf.gz', '/vcfs/genomes/original/000007027680.vcf.gz', '/vcfs/genomes/original/000007027690.vcf.gz', '/vcfs/genomes/original/000007027700.vcf.gz', '/vcfs/genomes/original/000007027710.vcf.gz', '/vcfs/genomes/original/000007027720.vcf.gz', '/vcfs/genomes/original/000007027730.vcf.gz', '/vcfs/genomes/original/000007027740.vcf.gz', '/vcfs/genomes/original/000007027750.vcf.gz', '/vcfs/genomes/original/000007027760.vcf.gz', '/vcfs/genomes/original/000007027770.vcf.gz', '/vcfs/genomes/original/000007027780.vcf.gz', '/vcfs/genomes/original/000007027790.vcf.gz', '/vcfs/genomes/original/000007027800.vcf.gz', '/vcfs/genomes/original/000007027810.vcf.gz', '/vcfs/genomes/original/000007027820.vcf.gz', '/vcfs/genomes/original/000007027830.vcf.gz', '/vcfs/genomes/original/000007027840.vcf.gz', '/vcfs/genomes/original/000007027850.vcf.gz', '/vcfs/genomes/original/000007027860.vcf.gz', '/vcfs/genomes/original/000007027870.vcf.gz', '/vcfs/genomes/original/000007027880.vcf.gz', '/vcfs/genomes/original/000007027890.vcf.gz', '/vcfs/genomes/original/000007027900.vcf.gz', '/vcfs/genomes/original/000007027910.vcf.gz', '/vcfs/genomes/original/000007027920.vcf.gz', '/vcfs/genomes/original/000007027930.vcf.gz', '/vcfs/genomes/original/000007027940.vcf.gz', '/vcfs/genomes/original/000007027950.vcf.gz', '/vcfs/genomes/original/000007027960.vcf.gz', '/vcfs/genomes/original/000007027970.vcf.gz', '/vcfs/genomes/original/000007027980.vcf.gz', '/vcfs/genomes/original/000007027990.vcf.gz', '/vcfs/genomes/original/000007028030.vcf.gz', '/vcfs/genomes/original/000007028040.vcf.gz', '/vcfs/genomes/original/000007028050.vcf.gz', '/vcfs/genomes/original/000007028060.vcf.gz', '/vcfs/genomes/original/000007028070.vcf.gz', '/vcfs/genomes/original/000007028080.vcf.gz', '/vcfs/genomes/original/000007028090.vcf.gz', '/vcfs/genomes/original/000007028100.vcf.gz', '/vcfs/genomes/original/000007028110.vcf.gz', '/vcfs/genomes/original/000007028120.vcf.gz', '/vcfs/genomes/original/000007028130.vcf.gz', '/vcfs/genomes/original/000007028140.vcf.gz', '/vcfs/genomes/original/000007028150.vcf.gz', '/vcfs/genomes/original/000007028160.vcf.gz', '/vcfs/genomes/original/000007028170.vcf.gz', '/vcfs/genomes/original/000007028180.vcf.gz', '/vcfs/genomes/original/000007028220.vcf.gz', '/vcfs/genomes/original/000007028230.vcf.gz', '/vcfs/genomes/original/000007028240.vcf.gz', '/vcfs/genomes/original/000007028250.vcf.gz', '/vcfs/genomes/original/000007028260.vcf.gz', '/vcfs/genomes/original/000007028270.vcf.gz', '/vcfs/genomes/original/000007028280.vcf.gz', '/vcfs/genomes/original/000007028290.vcf.gz', '/vcfs/genomes/original/000007028300.vcf.gz', '/vcfs/genomes/original/000007028310.vcf.gz', '/vcfs/genomes/original/000007028320.vcf.gz', '/vcfs/genomes/original/000007028330.vcf.gz', '/vcfs/genomes/original/000007028340.vcf.gz', '/vcfs/genomes/original/000007028350.vcf.gz', '/vcfs/genomes/original/000007028360.vcf.gz', '/vcfs/genomes/original/000007028370.vcf.gz', '/vcfs/genomes/original/000007028400.vcf.gz', '/vcfs/genomes/original/000007028410.vcf.gz', '/vcfs/genomes/original/000007028420.vcf.gz', '/vcfs/genomes/original/000007028430.vcf.gz', '/vcfs/genomes/original/000007028440.vcf.gz', '/vcfs/genomes/original/000007028450.vcf.gz', '/vcfs/genomes/original/000007028460.vcf.gz', '/vcfs/genomes/original/000007028470.vcf.gz', '/vcfs/genomes/original/000007028480.vcf.gz', '/vcfs/genomes/original/000007028490.vcf.gz', '/vcfs/genomes/original/000007028500.vcf.gz', '/vcfs/genomes/original/000007028510.vcf.gz', '/vcfs/genomes/original/000007028520.vcf.gz', '/vcfs/genomes/original/000007028540.vcf.gz', '/vcfs/genomes/original/000007028550.vcf.gz', '/vcfs/genomes/original/000007028570.vcf.gz', '/vcfs/genomes/original/000007028580.vcf.gz', '/vcfs/genomes/original/000007028590.vcf.gz', '/vcfs/genomes/original/000007028600.vcf.gz', '/vcfs/genomes/original/000007028610.vcf.gz', '/vcfs/genomes/original/000007028620.vcf.gz', '/vcfs/genomes/original/000007028630.vcf.gz', '/vcfs/genomes/original/000007028640.vcf.gz', '/vcfs/genomes/original/000007028650.vcf.gz', '/vcfs/genomes/original/000007028660.vcf.gz', '/vcfs/genomes/original/000007028670.vcf.gz', '/vcfs/genomes/original/000007028680.vcf.gz', '/vcfs/genomes/original/000007028700.vcf.gz', '/vcfs/genomes/original/000007028710.vcf.gz', '/vcfs/genomes/original/000007028720.vcf.gz', '/vcfs/genomes/original/000007028730.vcf.gz', '/vcfs/genomes/original/000007028740.vcf.gz', '/vcfs/genomes/original/000007028750.vcf.gz', '/vcfs/genomes/original/000007028760.vcf.gz', '/vcfs/genomes/original/000007028770.vcf.gz', '/vcfs/genomes/original/000007028780.vcf.gz', '/vcfs/genomes/original/000007028790.vcf.gz', '/vcfs/genomes/original/000007028810.vcf.gz', '/vcfs/genomes/original/000007028820.vcf.gz', '/vcfs/genomes/original/000007028830.vcf.gz', '/vcfs/genomes/original/000007028840.vcf.gz', '/vcfs/genomes/original/000007028850.vcf.gz', '/vcfs/genomes/original/000007028860.vcf.gz', '/vcfs/genomes/original/000007028870.vcf.gz', '/vcfs/genomes/original/000007028880.vcf.gz', '/vcfs/genomes/original/000007028900.vcf.gz', '/vcfs/genomes/original/000007028910.vcf.gz', '/vcfs/genomes/original/000007028920.vcf.gz', '/vcfs/genomes/original/000007028930.vcf.gz', '/vcfs/genomes/original/000007028940.vcf.gz', '/vcfs/genomes/original/000007028950.vcf.gz', '/vcfs/genomes/original/000007028970.vcf.gz', '/vcfs/genomes/original/000007028980.vcf.gz', '/vcfs/genomes/original/000007028990.vcf.gz', '/vcfs/genomes/original/000007029000.vcf.gz', '/vcfs/genomes/original/000007029010.vcf.gz', '/vcfs/genomes/original/000007029030.vcf.gz', '/vcfs/genomes/original/000007029050.vcf.gz', '/vcfs/genomes/original/000007029060.vcf.gz', '/vcfs/genomes/original/000007029070.vcf.gz', '/vcfs/genomes/original/000007029080.vcf.gz', '/vcfs/genomes/original/000007029090.vcf.gz', '/vcfs/genomes/original/000007029100.vcf.gz', '/vcfs/genomes/original/000007029110.vcf.gz', '/vcfs/genomes/original/000007029120.vcf.gz', '/vcfs/genomes/original/000007029130.vcf.gz', '/vcfs/genomes/original/000007029140.vcf.gz', '/vcfs/genomes/original/000007029150.vcf.gz', '/vcfs/genomes/original/000007029160.vcf.gz', '/vcfs/genomes/original/000007029170.vcf.gz', '/vcfs/genomes/original/000007029180.vcf.gz', '/vcfs/genomes/original/000007029190.vcf.gz', '/vcfs/genomes/original/000007029200.vcf.gz', '/vcfs/genomes/original/000007029210.vcf.gz', '/vcfs/genomes/original/000007029220.vcf.gz', '/vcfs/genomes/original/000007029230.vcf.gz', '/vcfs/genomes/original/000007029240.vcf.gz', '/vcfs/genomes/original/000007029250.vcf.gz', '/vcfs/genomes/original/000007029260.vcf.gz', '/vcfs/genomes/original/000007029270.vcf.gz', '/vcfs/genomes/original/000007029280.vcf.gz', '/vcfs/genomes/original/000007029290.vcf.gz', '/vcfs/genomes/original/000007029300.vcf.gz', '/vcfs/genomes/original/000007029310.vcf.gz', '/vcfs/genomes/original/000007029320.vcf.gz', '/vcfs/genomes/original/000007029330.vcf.gz', '/vcfs/genomes/original/000007029340.vcf.gz', '/vcfs/genomes/original/000007029350.vcf.gz', '/vcfs/genomes/original/000007029360.vcf.gz', '/vcfs/genomes/original/000007029370.vcf.gz', '/vcfs/genomes/original/000007029380.vcf.gz', '/vcfs/genomes/original/000007029390.vcf.gz', '/vcfs/genomes/original/000007029400.vcf.gz', '/vcfs/genomes/original/000007029410.vcf.gz', '/vcfs/genomes/original/000007029420.vcf.gz', '/vcfs/genomes/original/000007029430.vcf.gz', '/vcfs/genomes/original/000007029440.vcf.gz', '/vcfs/genomes/original/000007029450.vcf.gz', '/vcfs/genomes/original/000007029460.vcf.gz', '/vcfs/genomes/original/000007029470.vcf.gz', '/vcfs/genomes/original/000007029480.vcf.gz', '/vcfs/genomes/original/000007029490.vcf.gz', '/vcfs/genomes/original/000007029500.vcf.gz']\n"
     ]
    }
   ],
   "source": [
    "# старые файлы\n",
    "\n",
    "vcf_files = glob.glob(VCF_DIR + '*.vcf.gz')\n",
    "print(vcf_files)"
   ]
  },
  {
   "cell_type": "code",
   "execution_count": 15,
   "id": "4f0f9866",
   "metadata": {},
   "outputs": [
    {
     "name": "stdout",
     "output_type": "stream",
     "text": [
      "['/vcfs/genomes/new/000007029530.vcf.gz', '/vcfs/genomes/new/000007029510.vcf.gz', '/vcfs/genomes/new/000007029520.vcf.gz', '/vcfs/genomes/new/000007030390.vcf.gz']\n"
     ]
    }
   ],
   "source": [
    "# новые файлы\n",
    "new_vcf_files = glob.glob(VCF_DIR_NEW + '*.vcf.gz')\n",
    "print(new_vcf_files)"
   ]
  },
  {
   "cell_type": "code",
   "execution_count": 7,
   "id": "503e1d54",
   "metadata": {},
   "outputs": [],
   "source": [
    "# добавление пола\n",
    "\n",
    "def set_sex(mt, sex_table):\n",
    "    # преобразуем пол в is_female (True для 'ж'/'f')\n",
    "    sex_table = sex_table.annotate(\n",
    "        is_female = (\n",
    "            (sex_table.sex.lower() == 'ж') | \n",
    "            (sex_table.sex.lower() == 'f')\n",
    "        )\n",
    "    )\n",
    "    \n",
    "    # добавляем is_female к образцам (простое соединение)\n",
    "    mt = mt.annotate_cols(\n",
    "        is_female = sex_table[mt.s].is_female  # mt.s - ID образца\n",
    "    )\n",
    "\n",
    "    return mt"
   ]
  },
  {
   "cell_type": "code",
   "execution_count": 8,
   "id": "2e54f77c-5b8d-420e-8909-75a7549e79bd",
   "metadata": {},
   "outputs": [],
   "source": [
    "# нормализация гемизигот у мужчин и МХ у всех\n",
    "\n",
    "def normalize_ploidy(mt):\n",
    "    return mt.annotate_entries(\n",
    "        GT = hl.case()\n",
    "            # Митохондриальная ДНК (гаплоидная у всех)\n",
    "            .when(mt.locus.contig == \"chrM\",\n",
    "                hl.if_else(\n",
    "                    mt.GT.is_hom_ref(),\n",
    "                    hl.call(0),\n",
    "                    hl.if_else(\n",
    "                        mt.GT.is_hom_var(),\n",
    "                        hl.call(1),\n",
    "                        hl.if_else(\n",
    "                            (mt.VAF[0] > 0.3) | (mt.VAF[1] > 0.3),  # Учитываем оба аллеля\n",
    "                            hl.call(1),\n",
    "                            hl.call(0)\n",
    "                        )\n",
    "                    )\n",
    "                )\n",
    "            )\n",
    "            # Гемизиготные участки у мужчин (X/Y)\n",
    "            .when((~mt.is_female) & ((mt.locus.contig == \"chrX\") | (mt.locus.contig == \"chrY\")),\n",
    "                hl.if_else(\n",
    "                    mt.GT.is_hom_ref(),\n",
    "                    hl.call(0),\n",
    "                    hl.if_else(\n",
    "                        mt.GT.is_hom_var(),\n",
    "                        hl.call(1),\n",
    "                        hl.if_else(\n",
    "                            mt.VAF[0] > 0.3,\n",
    "                            hl.call(1),\n",
    "                            hl.call(0)\n",
    "                        )\n",
    "                    )\n",
    "                )\n",
    "            )\n",
    "            # Все остальные случаи (аутосомы, X у женщин)\n",
    "            .default(mt.GT)\n",
    "    )"
   ]
  },
  {
   "cell_type": "code",
   "execution_count": 9,
   "id": "504d612b",
   "metadata": {},
   "outputs": [],
   "source": [
    "# фильтрация по глубине\n",
    "\n",
    "def filter_variants_by_DP(combined_mt_all, dp):\n",
    "\n",
    "    # отсекаем варианты, если нет ни одного образца с DP больше порога\n",
    "    filtered_mt = combined_mt_all.filter_rows(\n",
    "        hl.agg.count_where(\n",
    "            (hl.is_defined(combined_mt_all.DP)) & \n",
    "            (combined_mt_all.DP >= dp)\n",
    "        ) >= 1\n",
    "    )\n",
    "\n",
    "    # корректируем генотипы - варианты с DP меньше порога исключаем из расчёта частот, помечая как NA\n",
    "    return filtered_mt.annotate_entries(\n",
    "        GT = hl.if_else(\n",
    "            (hl.is_defined(filtered_mt.DP)) & \n",
    "            (filtered_mt.DP >= dp),\n",
    "            filtered_mt.GT,\n",
    "            hl.missing(hl.tcall)\n",
    "        )\n",
    "    )\n"
   ]
  },
  {
   "cell_type": "code",
   "execution_count": null,
   "id": "4f5d6be3",
   "metadata": {},
   "outputs": [],
   "source": [
    "#препроцессинг до фильтрации включительно\n",
    "\n",
    "def preprocessing(vcf_files, sex_table):\n",
    "    # комбайн\n",
    "    mts_all = []\n",
    "    for vcf in vcf_files: \n",
    "        mt = hl.import_vcf(vcf, force_bgz=True, array_elements_required=False)\n",
    "        mt = set_sex(mt, sex_table)\n",
    "        mt = normalize_ploidy(mt)\n",
    "        mts_all.append(mt)\n",
    "\n",
    "    # Объединение MatrixTable по колонкам (образцам)\n",
    "    combined_mt_all = mts_all[0]\n",
    "    if len(mts_all) > 1:\n",
    "        for mt in mts_all[1:]:\n",
    "            combined_mt_all = combined_mt_all.union_cols(mt, row_join_type='outer')\n",
    "\n",
    "    #фильтрация по глубине\n",
    "    return filter_variants_by_DP(combined_mt_all, 3)"
   ]
  },
  {
   "cell_type": "code",
   "execution_count": null,
   "id": "91cd7b8c",
   "metadata": {},
   "outputs": [],
   "source": [
    "# расчёт частот\n",
    "\n",
    "def mt_AF_calculated(mt):\n",
    "    freq_mt_all = mt.annotate_rows(\n",
    "    call_stats=hl.agg.call_stats(mt.GT, mt.alleles)\n",
    "    hwe_stats=hl.agg.hardy_weinberg_test(mt.GT)\n",
    "    )\n",
    "\n",
    "    # извлечение частот аллелей\n",
    "    return freq_mt_all.annotate_rows(\n",
    "        allele_frequencies=freq_mt_all.call_stats.AF  # AF — это массив частот аллелей, включая мультиаллели\n",
    "    )"
   ]
  },
  {
   "cell_type": "markdown",
   "id": "395d0731",
   "metadata": {},
   "source": [
    "## Пайплайн с добавлением новых данных - отсюда и до конца"
   ]
  },
  {
   "cell_type": "code",
   "execution_count": 16,
   "id": "8cb90393",
   "metadata": {},
   "outputs": [],
   "source": [
    "# определение пола\n",
    "sex_table = hl.import_table(SEX_TABLE_PATH,\n",
    "        delimiter=',',\n",
    "        types={'ID': hl.tstr, 'sex': hl.tstr},\n",
    "        key='ID'\n",
    "    )"
   ]
  },
  {
   "cell_type": "code",
   "execution_count": null,
   "id": "604b4b4e",
   "metadata": {},
   "outputs": [],
   "source": [
    "%%time\n",
    "\n",
    "# препроцессинг данных\n",
    "data = preprocessing(vcf_files, sex_table)"
   ]
  },
  {
   "cell_type": "code",
   "execution_count": null,
   "id": "54cd7590-6a43-4cce-b056-f609d21f4b08",
   "metadata": {},
   "outputs": [
    {
     "name": "stdout",
     "output_type": "stream",
     "text": [
      "CPU times: user 15.8 ms, sys: 513 μs, total: 16.3 ms\n",
      "Wall time: 15.1 ms\n"
     ]
    }
   ],
   "source": [
    "%%time\n",
    "\n",
    "# расчёт частот\n",
    "data_af = mt_AF_calculated(data)"
   ]
  },
  {
   "cell_type": "code",
   "execution_count": 21,
   "id": "b6f1ff40-f6f4-4b7a-b1fd-8262660ef48f",
   "metadata": {},
   "outputs": [],
   "source": [
    "def make_af_table(data_af):\n",
    "    filtered_mt = data_af.select_entries('DP', 'AD') \\\n",
    "                   .select_rows('rsid', 'allele_frequencies')\n",
    "    return filtered_mt"
   ]
  },
  {
   "cell_type": "code",
   "execution_count": null,
   "id": "357c1c6d-5b63-4c0a-b833-b17278c62ef3",
   "metadata": {},
   "outputs": [
    {
     "name": "stdout",
     "output_type": "stream",
     "text": [
      "CPU times: user 14.1 ms, sys: 0 ns, total: 14.1 ms\n",
      "Wall time: 13.7 ms\n"
     ]
    }
   ],
   "source": [
    "%%time\n",
    "\n",
    "af = make_af_table(data_af)"
   ]
  },
  {
   "cell_type": "code",
   "execution_count": null,
   "id": "95dc4b61",
   "metadata": {},
   "outputs": [],
   "source": [
    "hl.stop()"
   ]
  }
 ],
 "metadata": {
  "kernelspec": {
   "display_name": "hail",
   "language": "python",
   "name": "python3"
  },
  "language_info": {
   "codemirror_mode": {
    "name": "ipython",
    "version": 3
   },
   "file_extension": ".py",
   "mimetype": "text/x-python",
   "name": "python",
   "nbconvert_exporter": "python",
   "pygments_lexer": "ipython3",
   "version": "3.12.2"
  }
 },
 "nbformat": 4,
 "nbformat_minor": 5
}
